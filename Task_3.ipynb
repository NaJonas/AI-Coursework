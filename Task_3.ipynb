{
 "cells": [
  {
   "cell_type": "markdown",
   "metadata": {},
   "source": [
    "# Task 3"
   ]
  },
  {
   "cell_type": "code",
   "execution_count": 227,
   "metadata": {},
   "outputs": [],
   "source": [
    "import numpy as np\n",
    "import torch\n",
    "from torch import nn, optim\n",
    "import torch.nn.functional as F\n",
    "from torch.autograd import Variable\n",
    "from torchvision import datasets, transforms\n",
    "import random\n",
    "from sklearn import preprocessing\n",
    "\n",
    "\n",
    "# Obtaining and normalizing MNIST dataset helped by: https://towardsdatascience.com/handwritten-digit-mnist-pytorch-977b5338e627\n",
    "# Mean and Standart Deviation 0.5 each for data normalization [-1, 1] \n",
    "transform = transforms.Compose([transforms.ToTensor(),\n",
    "                              transforms.Normalize((0.5,), (0.5,)),\n",
    "\n",
    "                               ])\n",
    "# No normalization\n",
    "transform2 = transforms.ToTensor()\n",
    "\n",
    "\n",
    "trainset = datasets.MNIST('', download=True, train=True, transform=transform)\n",
    "valset = datasets.MNIST('', download=True, train=False, transform=transform)\n",
    "\n",
    "trainloader = torch.utils.data.DataLoader(trainset, batch_size=100, shuffle=True)\n",
    "valloader = torch.utils.data.DataLoader(valset, batch_size=100, shuffle=True)\n",
    "\n",
    "\n",
    "class Mnet(nn.Module):\n",
    "    def __innit__(self):\n",
    "        super(Mnet, self).__init__()\n",
    "        self.layer1 = nn.Linear(28*28, 120)\n",
    "        self.layer2 = nn.Linear(120, 50)\n",
    "        self.final_layer = nn.Linear(50, 10)\n",
    "        self.softmax = nn.Softmax(dim=1)\n",
    "        \n",
    "        \n",
    "    def forward(self, images):\n",
    "        # flatten out the images\n",
    "        x = images.view(-1, 28*28)\n",
    "        x = F.relu(self.layer1(x))\n",
    "        x = torch.sigmoid(self.layer2(x))\n",
    "        x = self.softmax(self.final_layer(x))\n",
    "        return x"
   ]
  },
  {
   "cell_type": "code",
   "execution_count": 228,
   "metadata": {},
   "outputs": [],
   "source": [
    "## TRAINING\n",
    "# Mean Squared Error loss function\n",
    "# Stochastic Gradient Descent optimizer\n",
    "\n",
    "model = Mnet()\n",
    "model.__innit__()\n",
    "# Summing the (output-labels)^2 (reduction=sum) because otherwise the losses are very low and not decreasing. Maybe of problems with one hot encoded, couldn't figure it out\n",
    "# Adds a bit of time for computing\n",
    "mse_loss = nn.MSELoss(reduction='sum')\n",
    "params = model.parameters()\n",
    "optimizer = optim.SGD(params=params, lr=0.001)\n",
    "\n",
    "epochs = 5\n",
    "losses_train = []\n",
    "losses_eval = []\n",
    "epoch_loss = []\n",
    "for e in range(epochs):\n",
    "    iterations = 0\n",
    "\n",
    "    model.train()\n",
    "    total_loss = 0\n",
    "    #print(\"epoch\", e)\n",
    "    for i, (images, labels) in enumerate(trainloader):\n",
    "        #forward pass\n",
    "        output = model(images)\n",
    "        # this zeroes / resets all the gradients in the model, so that it is ready to go for the next back propagation pass\n",
    "        model.zero_grad()\n",
    "        labels_one_hot_encoded = torch.nn.functional.one_hot(labels, 10).float()\n",
    "        loss = mse_loss(output, labels_one_hot_encoded)\n",
    "        loss.backward()\n",
    "        optimizer.step()\n",
    "        \n",
    "        total_loss += loss.item()/100 # Divide by batch size because I am using reduction=sum for mseloss\n",
    "        losses_train.append(loss.item()/100) # # Divide by batch size because I am using reduction=sum for mseloss\n",
    "        iterations += 1\n",
    "    epoch_loss.append(total_loss/iterations)    \n",
    "    model.eval()\n",
    "    for i, (images, labels) in enumerate(valloader):\n",
    "        #print(\"i\", i)\n",
    "        #forward pass\n",
    "        output = model(images)\n",
    "        \n",
    "        model.zero_grad()\n",
    "        labels_one_hot_encoded = torch.nn.functional.one_hot(labels, 10).float()\n",
    "\n",
    "        loss = mse_loss(output, labels_one_hot_encoded)\n",
    "        loss.backward()\n",
    "        \n",
    "        optimizer.step()\n",
    "        \n",
    "        losses_eval.append(loss.item()/100)\n",
    "        \n",
    "\n",
    "        \n",
    "\n"
   ]
  },
  {
   "cell_type": "code",
   "execution_count": 229,
   "metadata": {},
   "outputs": [
    {
     "data": {
      "image/png": "[encoded data removed]",
      "text/plain": [
       "<Figure size 432x288 with 1 Axes>"
      ]
     },
     "metadata": {
      "needs_background": "light"
     },
     "output_type": "display_data"
    }
   ],
   "source": [
    "import matplotlib.pyplot as plt\n",
    "\n",
    "plt.plot(losses_train)\n",
    "plt.plot(losses_eval)\n",
    "plt.show()\n",
    "\n",
    "\n"
   ]
  },
  {
   "cell_type": "code",
   "execution_count": 230,
   "metadata": {},
   "outputs": [
    {
     "data": {
      "image/png": "[encoded data removed]",
      "text/plain": [
       "<Figure size 432x288 with 1 Axes>"
      ]
     },
     "metadata": {
      "needs_background": "light"
     },
     "output_type": "display_data"
    }
   ],
   "source": [
    "plt.plot(epoch_loss)\n",
    "plt.show()"
   ]
  },
  {
   "cell_type": "code",
   "execution_count": 165,
   "metadata": {},
   "outputs": [
    {
     "name": "stdout",
     "output_type": "stream",
     "text": [
      "<torch.utils.data.dataloader.DataLoader object at 0x7f334155e2d0>\n"
     ]
    }
   ],
   "source": [
    "print(trainloader)"
   ]
  },
  {
   "cell_type": "code",
   "execution_count": 198,
   "metadata": {},
   "outputs": [
    {
     "name": "stdout",
     "output_type": "stream",
     "text": [
      "0.87914015\n"
     ]
    }
   ],
   "source": [
    "var = np.array([0.1107, 0.0610, 0.0884, 0.1147, 0.1138, 0.1169, 0.1101, 0.0611, 0.0657,\n",
    "         0.1575])\n",
    "var2 = np.array([0, 0, 0, 1, 0, 0, 0, 0, 0, 0])\n",
    "\n",
    "print(np.sum(np.square(var-var2)))"
   ]
  },
  {
   "cell_type": "code",
   "execution_count": null,
   "metadata": {},
   "outputs": [],
   "source": []
  }
 ],
 "metadata": {
  "kernelspec": {
   "display_name": "Python 3",
   "language": "python",
   "name": "python3"
  },
  "language_info": {
   "codemirror_mode": {
    "name": "ipython",
    "version": 3
   },
   "file_extension": ".py",
   "mimetype": "text/x-python",
   "name": "python",
   "nbconvert_exporter": "python",
   "pygments_lexer": "ipython3",
   "version": "3.7.9"
  }
 },
 "nbformat": 4,
 "nbformat_minor": 4
}
